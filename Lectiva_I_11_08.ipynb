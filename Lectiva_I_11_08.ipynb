{
  "nbformat": 4,
  "nbformat_minor": 0,
  "metadata": {
    "colab": {
      "provenance": [],
      "authorship_tag": "ABX9TyNda0RI8WGtoueQdxNeF1Ds",
      "include_colab_link": true
    },
    "kernelspec": {
      "name": "python3",
      "display_name": "Python 3"
    },
    "language_info": {
      "name": "python"
    }
  },
  "cells": [
    {
      "cell_type": "markdown",
      "metadata": {
        "id": "view-in-github",
        "colab_type": "text"
      },
      "source": [
        "<a href=\"https://colab.research.google.com/github/Carlos-Arc05/LectivaI/blob/main/Lectiva_I_11_08.ipynb\" target=\"_parent\"><img src=\"https://colab.research.google.com/assets/colab-badge.svg\" alt=\"Open In Colab\"/></a>"
      ]
    },
    {
      "cell_type": "code",
      "execution_count": null,
      "metadata": {
        "colab": {
          "base_uri": "https://localhost:8080/"
        },
        "id": "QKh8SID-8j7i",
        "outputId": "350ae8fa-1de3-4836-ae06-52dbfbafc80b"
      },
      "outputs": [
        {
          "output_type": "stream",
          "name": "stdout",
          "text": [
            "primer paso\n"
          ]
        }
      ],
      "source": [
        "print(\"primer\"+\" paso\")"
      ]
    },
    {
      "cell_type": "code",
      "source": [
        "print(2+2)"
      ],
      "metadata": {
        "colab": {
          "base_uri": "https://localhost:8080/"
        },
        "id": "nPe6-TnhBmCz",
        "outputId": "93c819da-25ef-4d06-943b-7a6b924943a5"
      },
      "execution_count": 1,
      "outputs": [
        {
          "output_type": "stream",
          "name": "stdout",
          "text": [
            "4\n"
          ]
        }
      ]
    },
    {
      "cell_type": "code",
      "source": [
        "#Ejemplo Diccionario\n",
        "mi_diccionario = {\"2022\":\"Andres Romero\" , \"1006291647\" :\"JoshuaG\" , \"1112785434\" : \"carvajal\"}\n",
        "otro_diccionario = {1:\"uno\" , 2:\"dos\" , 3:\"tres\"}"
      ],
      "metadata": {
        "id": "pk9_J-KYD0ul"
      },
      "execution_count": 22,
      "outputs": []
    },
    {
      "cell_type": "code",
      "source": [
        "otro_diccionario[1]"
      ],
      "metadata": {
        "colab": {
          "base_uri": "https://localhost:8080/",
          "height": 36
        },
        "id": "FXE92HuOEek3",
        "outputId": "19775be6-5552-4796-dc6f-4b1ef2f9d300"
      },
      "execution_count": 25,
      "outputs": [
        {
          "output_type": "execute_result",
          "data": {
            "text/plain": [
              "'uno'"
            ],
            "application/vnd.google.colaboratory.intrinsic+json": {
              "type": "string"
            }
          },
          "metadata": {},
          "execution_count": 25
        }
      ]
    },
    {
      "cell_type": "code",
      "source": [],
      "metadata": {
        "id": "w7NXSdx_F3oW"
      },
      "execution_count": null,
      "outputs": []
    }
  ]
}