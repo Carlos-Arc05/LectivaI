{
  "nbformat": 4,
  "nbformat_minor": 0,
  "metadata": {
    "colab": {
      "provenance": [],
      "authorship_tag": "ABX9TyMrBwtVuj6xoAL8u88Rs11m",
      "include_colab_link": true
    },
    "kernelspec": {
      "name": "python3",
      "display_name": "Python 3"
    },
    "language_info": {
      "name": "python"
    }
  },
  "cells": [
    {
      "cell_type": "markdown",
      "metadata": {
        "id": "view-in-github",
        "colab_type": "text"
      },
      "source": [
        "<a href=\"https://colab.research.google.com/github/Carlos-Arc05/LectivaI/blob/main/Lectiva_I_11_08.ipynb\" target=\"_parent\"><img src=\"https://colab.research.google.com/assets/colab-badge.svg\" alt=\"Open In Colab\"/></a>"
      ]
    },
    {
      "cell_type": "code",
      "execution_count": null,
      "metadata": {
        "colab": {
          "base_uri": "https://localhost:8080/"
        },
        "id": "QKh8SID-8j7i",
        "outputId": "350ae8fa-1de3-4836-ae06-52dbfbafc80b"
      },
      "outputs": [
        {
          "output_type": "stream",
          "name": "stdout",
          "text": [
            "primer paso\n"
          ]
        }
      ],
      "source": [
        "print(\"primer\"+\" paso\")"
      ]
    },
    {
      "cell_type": "code",
      "source": [
        "print(2+2)"
      ],
      "metadata": {
        "colab": {
          "base_uri": "https://localhost:8080/"
        },
        "id": "nPe6-TnhBmCz",
        "outputId": "93c819da-25ef-4d06-943b-7a6b924943a5"
      },
      "execution_count": 1,
      "outputs": [
        {
          "output_type": "stream",
          "name": "stdout",
          "text": [
            "4\n"
          ]
        }
      ]
    },
    {
      "cell_type": "code",
      "source": [
        "#Ejemplo Diccionario\n",
        "mi_diccionario = {\"2022\":\"Andres Romero\" , \"1006291647\" :\"JoshuaG\" , \"1112785434\" : \"carvajal\"}\n",
        "otro_diccionario = {1: [1,2,3,4,5,6,7], 2:[10,11,12] , 3:{1:2,2:3}}"
      ],
      "metadata": {
        "id": "pk9_J-KYD0ul"
      },
      "execution_count": 29,
      "outputs": []
    },
    {
      "cell_type": "code",
      "source": [
        "otro_diccionario[3][2]"
      ],
      "metadata": {
        "colab": {
          "base_uri": "https://localhost:8080/"
        },
        "id": "FXE92HuOEek3",
        "outputId": "cdfc9e17-c448-4330-cfaa-b7ca1bcaa7e8"
      },
      "execution_count": 30,
      "outputs": [
        {
          "output_type": "execute_result",
          "data": {
            "text/plain": [
              "3"
            ]
          },
          "metadata": {},
          "execution_count": 30
        }
      ]
    },
    {
      "cell_type": "code",
      "source": [
        "#Ejemplo Diccionario\n",
        "mi_diccionario = {\"2022\":\"Andres Romero\" , \"1006291647\" :\"JoshuaG\" , \"1112785434\" : \"carvajal\"}\n",
        "otro_diccionario = {1: [1,2,3,4,5,6,7], 2:[10,11,12] , 3:{1:2,2:3}}"
      ],
      "metadata": {
        "id": "w7NXSdx_F3oW"
      },
      "execution_count": null,
      "outputs": []
    },
    {
      "cell_type": "code",
      "source": [
        "diccionario_complejo = { 1 : [1,2,3,4,5,[5,6,7,8,9,[6,7,8]]],\n",
        "2: [5,6,7,8,9],\n",
        "3: {1:2,2:3,6:[9,10,'extraer este valor']}\n",
        "}\n",
        "#Ejercicio\n",
        "#extraer la cadena de texto \"extraer este valor\"\n",
        "diccionario_complejo[1][5][5][2]\n"
      ],
      "metadata": {
        "colab": {
          "base_uri": "https://localhost:8080/"
        },
        "id": "xT_kXX-THI7Q",
        "outputId": "1b8ba9bb-db25-48b3-dd78-7a3b07fa70f6"
      },
      "execution_count": 44,
      "outputs": [
        {
          "output_type": "execute_result",
          "data": {
            "text/plain": [
              "8"
            ]
          },
          "metadata": {},
          "execution_count": 44
        }
      ]
    },
    {
      "cell_type": "code",
      "source": [
        "diccionario_complejo[3][6][2]"
      ],
      "metadata": {
        "colab": {
          "base_uri": "https://localhost:8080/",
          "height": 36
        },
        "id": "QfqL176IHy22",
        "outputId": "78ececbe-3995-4474-c6f5-684e52f698c1"
      },
      "execution_count": 45,
      "outputs": [
        {
          "output_type": "execute_result",
          "data": {
            "text/plain": [
              "'extraer este valor'"
            ],
            "application/vnd.google.colaboratory.intrinsic+json": {
              "type": "string"
            }
          },
          "metadata": {},
          "execution_count": 45
        }
      ]
    },
    {
      "cell_type": "code",
      "source": [
        "estudiantes={\"CalebLondoño\":{\"Nota\":3.5,\"Habilita\":\"No\"}, \"ZoeVillalobos\":{\"Nota\":2.9,\"Habilita\":\"Sí\"}, \"KevinHincapie\":{\"Nota\":3.9,\"Habilita\":\"No\"}, \"YulianMontilla\":{\"Nota\":3.3,\"Habilita\":\"No\"}, \"YeisonSolis\":{\"Nota\":3.0,\"Habilita\":\"No\"}}\n",
        "if estudiantes[]"
      ],
      "metadata": {
        "id": "RNtutd38K_Ns"
      },
      "execution_count": null,
      "outputs": []
    },
    {
      "cell_type": "code",
      "source": [],
      "metadata": {
        "id": "8KH6xNxNNFue",
        "outputId": "d61d1a91-3e1f-4dc5-a952-4b495a80a0af",
        "colab": {
          "base_uri": "https://localhost:8080/",
          "height": 106
        }
      },
      "execution_count": 49,
      "outputs": [
        {
          "output_type": "error",
          "ename": "SyntaxError",
          "evalue": "invalid syntax (ipython-input-2324029019.py, line 1)",
          "traceback": [
            "\u001b[0;36m  File \u001b[0;32m\"/tmp/ipython-input-2324029019.py\"\u001b[0;36m, line \u001b[0;32m1\u001b[0m\n\u001b[0;31m    if estudiantes \"Nota\" >=3.0\u001b[0m\n\u001b[0m                   ^\u001b[0m\n\u001b[0;31mSyntaxError\u001b[0m\u001b[0;31m:\u001b[0m invalid syntax\n"
          ]
        }
      ]
    }
  ]
}