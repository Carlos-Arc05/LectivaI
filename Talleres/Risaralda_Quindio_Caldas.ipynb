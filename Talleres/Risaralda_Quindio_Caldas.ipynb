{
 "cells": [
  {
   "cell_type": "code",
   "execution_count": 1,
   "id": "55d8a532",
   "metadata": {},
   "outputs": [
    {
     "name": "stdout",
     "output_type": "stream",
     "text": [
      "Requirement already satisfied: pandas in /home/codespace/.local/lib/python3.12/site-packages (2.3.1)\n",
      "Requirement already satisfied: numpy>=1.26.0 in /home/codespace/.local/lib/python3.12/site-packages (from pandas) (2.3.1)\n",
      "Requirement already satisfied: python-dateutil>=2.8.2 in /home/codespace/.local/lib/python3.12/site-packages (from pandas) (2.9.0.post0)\n",
      "Requirement already satisfied: pytz>=2020.1 in /home/codespace/.local/lib/python3.12/site-packages (from pandas) (2025.2)\n",
      "Requirement already satisfied: tzdata>=2022.7 in /home/codespace/.local/lib/python3.12/site-packages (from pandas) (2025.2)\n",
      "Requirement already satisfied: six>=1.5 in /home/codespace/.local/lib/python3.12/site-packages (from python-dateutil>=2.8.2->pandas) (1.17.0)\n",
      "\n",
      "\u001b[1m[\u001b[0m\u001b[34;49mnotice\u001b[0m\u001b[1;39;49m]\u001b[0m\u001b[39;49m A new release of pip is available: \u001b[0m\u001b[31;49m25.1.1\u001b[0m\u001b[39;49m -> \u001b[0m\u001b[32;49m25.2\u001b[0m\n",
      "\u001b[1m[\u001b[0m\u001b[34;49mnotice\u001b[0m\u001b[1;39;49m]\u001b[0m\u001b[39;49m To update, run: \u001b[0m\u001b[32;49mpython3 -m pip install --upgrade pip\u001b[0m\n"
     ]
    }
   ],
   "source": [
    "! pip install pandas"
   ]
  },
  {
   "cell_type": "code",
   "execution_count": 2,
   "id": "b4437ce6",
   "metadata": {},
   "outputs": [],
   "source": [
    "#Importando las librerias necesarias para el analisis de la GEIH\n",
    "import pandas as pd"
   ]
  },
  {
   "cell_type": "code",
   "execution_count": 3,
   "id": "a4a1c454",
   "metadata": {},
   "outputs": [
    {
     "name": "stderr",
     "output_type": "stream",
     "text": [
      "/tmp/ipykernel_30889/3175422324.py:6: DtypeWarning: Columns (28,89,133,147,158) have mixed types. Specify dtype option on import or set low_memory=False.\n",
      "  df_o = pd.read_csv('https://github.com/niconomist98/DataAnalyticsUQ/raw/refs/heads/main/Datos/GEIH2025/Ocupados.CSV'\n",
      "/tmp/ipykernel_30889/3175422324.py:13: DtypeWarning: Columns (33) have mixed types. Specify dtype option on import or set low_memory=False.\n",
      "  df_ft = pd.read_csv('https://github.com/niconomist98/DataAnalyticsUQ/raw/refs/heads/main/Datos/GEIH2025/Fuerza%20de%20trabajo.CSV'\n"
     ]
    }
   ],
   "source": [
    "#Leyendo los datos de la geih\n",
    "df_cgsse = pd.read_csv('https://github.com/niconomist98/DataAnalyticsUQ/raw/refs/heads/main/Datos/GEIH2025/cgsse.CSV'\n",
    "                       ,encoding='latin',sep=';'\n",
    "                       )\n",
    "\n",
    "df_o = pd.read_csv('https://github.com/niconomist98/DataAnalyticsUQ/raw/refs/heads/main/Datos/GEIH2025/Ocupados.CSV'\n",
    "                       ,encoding='latin',sep=';'\n",
    "                       )\n",
    "\n",
    "df_d = pd.read_csv('https://github.com/niconomist98/DataAnalyticsUQ/raw/refs/heads/main/Datos/GEIH2025/No%20ocupados.CSV'\n",
    "                       ,encoding='latin',sep=';'\n",
    "                       )\n",
    "df_ft = pd.read_csv('https://github.com/niconomist98/DataAnalyticsUQ/raw/refs/heads/main/Datos/GEIH2025/Fuerza%20de%20trabajo.CSV'\n",
    "                       ,encoding='latin',sep=';'\n",
    "                       )"
   ]
  },
  {
   "cell_type": "code",
   "execution_count": 5,
   "id": "4341e865",
   "metadata": {},
   "outputs": [],
   "source": [
    "#Primero hay que anexar la p3271 a la tabla de desempleados\n",
    "df_d = pd.merge(df_d, df_cgsse[['DIRECTORIO', 'SECUENCIA_P', 'ORDEN', 'P3271']], \n",
    "                        on=['DIRECTORIO', 'SECUENCIA_P', 'ORDEN'], how='left')\n",
    "\n",
    "df_ft = pd.merge(df_ft, df_cgsse[['DIRECTORIO', 'SECUENCIA_P', 'ORDEN', 'P3271']], \n",
    "                        on=['DIRECTORIO', 'SECUENCIA_P', 'ORDEN'], how='left')"
   ]
  },
  {
   "cell_type": "code",
   "execution_count": 6,
   "id": "5a244ce1",
   "metadata": {},
   "outputs": [
    {
     "name": "stdout",
     "output_type": "stream",
     "text": [
      "Hombres Desempleados en el Risaralda: 18000.60370715\n",
      "Poblacion Economicamente Activa de hombres en el Risaralda: 296342.328368219\n",
      "Tasa de Desempleo en hombres del Risaralda: 6.074260064793518%\n"
     ]
    }
   ],
   "source": [
    "# 1. Calcular cantidad de hombres desempleados en Risaralda \n",
    "HDR = df_d[(df_d['DSI']==1) & (df_d['DPTO']==66) & (df_d['P3271']==1)]['FEX_C18'].sum()\n",
    "print(f'Hombres Desempleados en el Risaralda: {HDR}')\n",
    "\n",
    "# 2. Calcular cantidad de hombres en la PEA Risaralda\n",
    "PEAHR = df_ft[(df_ft['FT']==1) & (df_ft['DPTO']==66) & (df_ft['P3271']==1) ]['FEX_C18'].sum()\n",
    "print(f'Poblacion Economicamente Activa de hombres en el Risaralda: {PEAHR}')\n",
    "\n",
    "# 3. Calcular la tasa de desempleo en hombres de Risaralda\n",
    "TDHR = HDR/PEAHR\n",
    "print(f'Tasa de Desempleo en hombres del Risaralda: {TDHR*100}%')"
   ]
  },
  {
   "cell_type": "code",
   "execution_count": 7,
   "id": "f61825f6",
   "metadata": {},
   "outputs": [
    {
     "name": "stdout",
     "output_type": "stream",
     "text": [
      "Mujeres Desempleadas en el Risaralda: 21676.799766712\n",
      "Poblacion Economicamente Activa de mujeres en el Risaralda: 203157.903399127\n",
      "Tasa de Desempleo en mujeres del Risaralda: 10.669926891362644%\n"
     ]
    }
   ],
   "source": [
    "# 1. Calcular cantidad de MUJERES desempleadas en el Risaralda \n",
    "MDR = df_d[(df_d['DSI']==1) & (df_d['DPTO']==66) & (df_d['P3271']==2)]['FEX_C18'].sum()\n",
    "print(f'Mujeres Desempleadas en el Risaralda: {MDR}')\n",
    "\n",
    "# 2. Calcular cantidad de mujeres en la PEA del Risaralda\n",
    "PEAMR = df_ft[(df_ft['FT']==1) & (df_ft['DPTO']==66) & (df_ft['P3271']==2) ]['FEX_C18'].sum()\n",
    "print(f'Poblacion Economicamente Activa de mujeres en el Risaralda: {PEAMR}')\n",
    "\n",
    "# 3. Calcular la tasa de desempleo en mujeres del Risaralda\n",
    "TDMR = MDR/PEAMR\n",
    "print(f'Tasa de Desempleo en mujeres del Risaralda: {TDMR*100}%')"
   ]
  },
  {
   "cell_type": "code",
   "execution_count": 14,
   "id": "28262a30",
   "metadata": {},
   "outputs": [
    {
     "name": "stdout",
     "output_type": "stream",
     "text": [
      "HOMBRES Desempleadas en el Caldas: 18226.160047418998\n",
      "Poblacion Economicamente Activa de HOMBRES en el Caldas: 326447.467769983\n",
      "Tasa de Desempleo en HOMBRES del Caldas: 5.5831831601957065%\n"
     ]
    }
   ],
   "source": [
    "# 1. Calcular cantidad de HOMBRES desempleadas en el Caldas \n",
    "HDC = df_d[(df_d['DSI']==1) & (df_d['DPTO']==17) & (df_d['P3271']==1)]['FEX_C18'].sum()\n",
    "print(f'HOMBRES Desempleadas en el Caldas: {HDC}')\n",
    "\n",
    "# 2. Calcular cantidad de HOMBRES en la PEA del Caldas\n",
    "PEAHC = df_ft[(df_ft['FT']==1) & (df_ft['DPTO']==17) & (df_ft['P3271']==1) ]['FEX_C18'].sum()\n",
    "print(f'Poblacion Economicamente Activa de HOMBRES en el Caldas: {PEAHC}')\n",
    "\n",
    "# 3. Calcular la tasa de desempleo en HOMBRES del Caldas\n",
    "TDHC = HDC/PEAHC\n",
    "print(f'Tasa de Desempleo en HOMBRES del Caldas: {TDHC*100}%')"
   ]
  },
  {
   "cell_type": "code",
   "execution_count": 18,
   "id": "89186fcb",
   "metadata": {},
   "outputs": [
    {
     "name": "stdout",
     "output_type": "stream",
     "text": [
      "Mujeres Desempleadas en el CALDAS: 17214.491449226003\n",
      "Poblacion Economicamente Activa de mujeres en el CALDAS: 224206.533775\n",
      "Tasa de Desempleo en mujeres del CALDAS: 7.677961547053494%\n"
     ]
    }
   ],
   "source": [
    "# 1. Calcular cantidad de MUJERES desempleadas en el CALDAS \n",
    "MDC = df_d[(df_d['DSI']==1) & (df_d['DPTO']==17) & (df_d['P3271']==2)]['FEX_C18'].sum()\n",
    "print(f'Mujeres Desempleadas en el CALDAS: {MDC}')\n",
    "\n",
    "# 2. Calcular cantidad de mujeres en la PEA del CALDAS\n",
    "PEAMC = df_ft[(df_ft['FT']==1) & (df_ft['DPTO']==17) & (df_ft['P3271']==2) ]['FEX_C18'].sum()\n",
    "print(f'Poblacion Economicamente Activa de mujeres en el CALDAS: {PEAMC}')\n",
    "\n",
    "# 3. Calcular la tasa de desempleo en mujeres del CALDAS\n",
    "TDMC = MDC/PEAMC\n",
    "print(f'Tasa de Desempleo en mujeres del CALDAS: {TDMC*100}%')"
   ]
  },
  {
   "cell_type": "code",
   "execution_count": 16,
   "id": "785afef7",
   "metadata": {},
   "outputs": [
    {
     "name": "stdout",
     "output_type": "stream",
     "text": [
      "Mujeres Desempleadas en el Quindio: 10618.534945967001\n",
      "Poblacion Economicamente Activa de mujeres en el quindío: 116885.879263648\n",
      "Tasa de Desempleo en mujeres del quindío: 9.084531863781265%\n"
     ]
    }
   ],
   "source": [
    "# 1. Calcular cantidad de MUJERES desempleadas en el quindío \n",
    "MDQ = df_d[(df_d['DSI']==1) & (df_d['DPTO']==63) & (df_d['P3271']==2)]['FEX_C18'].sum()\n",
    "print(f'Mujeres Desempleadas en el Quindio: {MDQ}')\n",
    "\n",
    "# 2. Calcular cantidad de mujeres en la PEA del quindío\n",
    "PEAMQ = df_ft[(df_ft['FT']==1) & (df_ft['DPTO']==63) & (df_ft['P3271']==2) ]['FEX_C18'].sum()\n",
    "print(f'Poblacion Economicamente Activa de mujeres en el quindío: {PEAMQ}')\n",
    "\n",
    "# 3. Calcular la tasa de desempleo en mujeres del quindío\n",
    "TDMQ = MDQ/PEAMQ\n",
    "print(f'Tasa de Desempleo en mujeres del quindío: {TDMQ*100}%')"
   ]
  },
  {
   "cell_type": "code",
   "execution_count": 17,
   "id": "88582d66",
   "metadata": {},
   "outputs": [
    {
     "name": "stdout",
     "output_type": "stream",
     "text": [
      "HOMBRES Desempleadas en el Quindio: 17869.520960767004\n",
      "Poblacion Economicamente Activa de HOMBRES en el quindío: 174625.87195169798\n",
      "Tasa de Desempleo en HOMBRES del quindío: 10.233031773040919%\n"
     ]
    }
   ],
   "source": [
    "# 1. Calcular cantidad de HOMBRES desempleadas en el quindío \n",
    "HDQ = df_d[(df_d['DSI']==1) & (df_d['DPTO']==63) & (df_d['P3271']==1)]['FEX_C18'].sum()\n",
    "print(f'HOMBRES Desempleadas en el Quindio: {HDQ}')\n",
    "\n",
    "# 2. Calcular cantidad de mujeres en la PEA del quindío\n",
    "PEAHQ = df_ft[(df_ft['FT']==1) & (df_ft['DPTO']==63) & (df_ft['P3271']==1) ]['FEX_C18'].sum()\n",
    "print(f'Poblacion Economicamente Activa de HOMBRES en el quindío: {PEAHQ}')\n",
    "\n",
    "# 3. Calcular la tasa de desempleo en HOMBRES del quindío\n",
    "TDHQ = HDQ/PEAHQ\n",
    "print(f'Tasa de Desempleo en HOMBRES del quindío: {TDHQ*100}%')"
   ]
  }
 ],
 "metadata": {
  "kernelspec": {
   "display_name": "Python 3",
   "language": "python",
   "name": "python3"
  },
  "language_info": {
   "codemirror_mode": {
    "name": "ipython",
    "version": 3
   },
   "file_extension": ".py",
   "mimetype": "text/x-python",
   "name": "python",
   "nbconvert_exporter": "python",
   "pygments_lexer": "ipython3",
   "version": "3.12.1"
  }
 },
 "nbformat": 4,
 "nbformat_minor": 5
}
