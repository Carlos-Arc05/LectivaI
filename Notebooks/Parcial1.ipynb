{
 "cells": [
  {
   "cell_type": "code",
   "execution_count": 6,
   "id": "ecf93b5b",
   "metadata": {},
   "outputs": [],
   "source": [
    "import pandas as pd\n",
    "import numpy as np"
   ]
  },
  {
   "cell_type": "code",
   "execution_count": 7,
   "id": "4b41e4f3",
   "metadata": {},
   "outputs": [],
   "source": [
    "emicron = pd.read_csv(\"https://github.com/niconomist98/DataAnalyticsUQ/raw/refs/heads/main/Datos/EMICRON/emicron_identificacion.csv\", encoding = 'latin', sep = \",\")"
   ]
  },
  {
   "cell_type": "code",
   "execution_count": 8,
   "id": "c3758132",
   "metadata": {},
   "outputs": [
    {
     "data": {
      "text/html": [
       "<div>\n",
       "<style scoped>\n",
       "    .dataframe tbody tr th:only-of-type {\n",
       "        vertical-align: middle;\n",
       "    }\n",
       "\n",
       "    .dataframe tbody tr th {\n",
       "        vertical-align: top;\n",
       "    }\n",
       "\n",
       "    .dataframe thead th {\n",
       "        text-align: right;\n",
       "    }\n",
       "</style>\n",
       "<table border=\"1\" class=\"dataframe\">\n",
       "  <thead>\n",
       "    <tr style=\"text-align: right;\">\n",
       "      <th></th>\n",
       "      <th>DIRECTORIO</th>\n",
       "      <th>SECUENCIA_P</th>\n",
       "      <th>SECUENCIA_ENCUESTA</th>\n",
       "      <th>COD_DEPTO</th>\n",
       "      <th>AREA</th>\n",
       "      <th>CLASE_TE</th>\n",
       "      <th>P35</th>\n",
       "      <th>P241</th>\n",
       "      <th>MES_REF</th>\n",
       "      <th>P3031</th>\n",
       "      <th>P3032_1</th>\n",
       "      <th>P3032_2</th>\n",
       "      <th>P3032_3</th>\n",
       "      <th>P3033</th>\n",
       "      <th>P3034</th>\n",
       "      <th>P3035</th>\n",
       "      <th>P3000</th>\n",
       "      <th>GRUPOS4</th>\n",
       "      <th>GRUPOS12</th>\n",
       "      <th>F_EXP</th>\n",
       "    </tr>\n",
       "  </thead>\n",
       "  <tbody>\n",
       "    <tr>\n",
       "      <th>0</th>\n",
       "      <td>7627444</td>\n",
       "      <td>1</td>\n",
       "      <td>1</td>\n",
       "      <td>44</td>\n",
       "      <td>NaN</td>\n",
       "      <td>2</td>\n",
       "      <td>2</td>\n",
       "      <td>33</td>\n",
       "      <td>ENERO</td>\n",
       "      <td>2</td>\n",
       "      <td>NaN</td>\n",
       "      <td>NaN</td>\n",
       "      <td>NaN</td>\n",
       "      <td>2</td>\n",
       "      <td>240</td>\n",
       "      <td>2</td>\n",
       "      <td>2</td>\n",
       "      <td>2</td>\n",
       "      <td>3</td>\n",
       "      <td>60.050515</td>\n",
       "    </tr>\n",
       "    <tr>\n",
       "      <th>1</th>\n",
       "      <td>7627446</td>\n",
       "      <td>1</td>\n",
       "      <td>1</td>\n",
       "      <td>44</td>\n",
       "      <td>NaN</td>\n",
       "      <td>2</td>\n",
       "      <td>1</td>\n",
       "      <td>31</td>\n",
       "      <td>ENERO</td>\n",
       "      <td>2</td>\n",
       "      <td>NaN</td>\n",
       "      <td>NaN</td>\n",
       "      <td>NaN</td>\n",
       "      <td>2</td>\n",
       "      <td>166</td>\n",
       "      <td>2</td>\n",
       "      <td>2</td>\n",
       "      <td>1</td>\n",
       "      <td>1</td>\n",
       "      <td>86.341075</td>\n",
       "    </tr>\n",
       "    <tr>\n",
       "      <th>2</th>\n",
       "      <td>7627449</td>\n",
       "      <td>1</td>\n",
       "      <td>1</td>\n",
       "      <td>68</td>\n",
       "      <td>NaN</td>\n",
       "      <td>1</td>\n",
       "      <td>2</td>\n",
       "      <td>42</td>\n",
       "      <td>ENERO</td>\n",
       "      <td>2</td>\n",
       "      <td>NaN</td>\n",
       "      <td>NaN</td>\n",
       "      <td>NaN</td>\n",
       "      <td>2</td>\n",
       "      <td>60</td>\n",
       "      <td>2</td>\n",
       "      <td>2</td>\n",
       "      <td>3</td>\n",
       "      <td>5</td>\n",
       "      <td>139.884518</td>\n",
       "    </tr>\n",
       "    <tr>\n",
       "      <th>3</th>\n",
       "      <td>7627453</td>\n",
       "      <td>1</td>\n",
       "      <td>2</td>\n",
       "      <td>68</td>\n",
       "      <td>NaN</td>\n",
       "      <td>1</td>\n",
       "      <td>2</td>\n",
       "      <td>41</td>\n",
       "      <td>ENERO</td>\n",
       "      <td>2</td>\n",
       "      <td>NaN</td>\n",
       "      <td>NaN</td>\n",
       "      <td>NaN</td>\n",
       "      <td>2</td>\n",
       "      <td>60</td>\n",
       "      <td>2</td>\n",
       "      <td>2</td>\n",
       "      <td>4</td>\n",
       "      <td>7</td>\n",
       "      <td>168.635440</td>\n",
       "    </tr>\n",
       "    <tr>\n",
       "      <th>4</th>\n",
       "      <td>7627456</td>\n",
       "      <td>1</td>\n",
       "      <td>3</td>\n",
       "      <td>68</td>\n",
       "      <td>NaN</td>\n",
       "      <td>1</td>\n",
       "      <td>1</td>\n",
       "      <td>18</td>\n",
       "      <td>ENERO</td>\n",
       "      <td>2</td>\n",
       "      <td>NaN</td>\n",
       "      <td>NaN</td>\n",
       "      <td>NaN</td>\n",
       "      <td>2</td>\n",
       "      <td>9</td>\n",
       "      <td>2</td>\n",
       "      <td>2</td>\n",
       "      <td>4</td>\n",
       "      <td>6</td>\n",
       "      <td>64.659273</td>\n",
       "    </tr>\n",
       "  </tbody>\n",
       "</table>\n",
       "</div>"
      ],
      "text/plain": [
       "   DIRECTORIO  SECUENCIA_P  SECUENCIA_ENCUESTA  COD_DEPTO  AREA  CLASE_TE  \\\n",
       "0     7627444            1                   1         44   NaN         2   \n",
       "1     7627446            1                   1         44   NaN         2   \n",
       "2     7627449            1                   1         68   NaN         1   \n",
       "3     7627453            1                   2         68   NaN         1   \n",
       "4     7627456            1                   3         68   NaN         1   \n",
       "\n",
       "   P35  P241 MES_REF  P3031  P3032_1  P3032_2  P3032_3  P3033  P3034  P3035  \\\n",
       "0    2    33   ENERO      2      NaN      NaN      NaN      2    240      2   \n",
       "1    1    31   ENERO      2      NaN      NaN      NaN      2    166      2   \n",
       "2    2    42   ENERO      2      NaN      NaN      NaN      2     60      2   \n",
       "3    2    41   ENERO      2      NaN      NaN      NaN      2     60      2   \n",
       "4    1    18   ENERO      2      NaN      NaN      NaN      2      9      2   \n",
       "\n",
       "   P3000  GRUPOS4  GRUPOS12       F_EXP  \n",
       "0      2        2         3   60.050515  \n",
       "1      2        1         1   86.341075  \n",
       "2      2        3         5  139.884518  \n",
       "3      2        4         7  168.635440  \n",
       "4      2        4         6   64.659273  "
      ]
     },
     "execution_count": 8,
     "metadata": {},
     "output_type": "execute_result"
    }
   ],
   "source": [
    "emicron.head()"
   ]
  },
  {
   "cell_type": "code",
   "execution_count": 4,
   "id": "f6fd5728",
   "metadata": {},
   "outputs": [],
   "source": [
    "#Preguntas \n",
    "#1. cuantos micronegocios hay en el quindio y cuyos propietarios son hombres entre los 18 y 30 años?\n",
    "#2. cuantos micronegocios de la industria manufacturear existen en el departamento de risaralda cuyas propietarias son mujeres entre los 20 y los 30 años?\n",
    "#3. Entre las ciudades de manizales, pereira y armenia, cual tiene el mas micronegocios del sector comercio, cuyas propietarias son mujeres mayores a 40 años?\n",
    "#4. En la ciudad de armenia, cuantos micronegocios hay cuyos propietarios son hombres que no tienen nombre comercial?"
   ]
  },
  {
   "cell_type": "code",
   "execution_count": 13,
   "id": "3c41995e",
   "metadata": {},
   "outputs": [
    {
     "name": "stdout",
     "output_type": "stream",
     "text": [
      "Total micronegocios a nivel nacional: 5297251\n"
     ]
    }
   ],
   "source": [
    "#1. cuantos micronegocios hay en el quindio y cuyos propietarios son hombres entre los 18 y 30 años?\n",
    "#Micronegocios  a nivel nacional\n",
    "Total = emicron[\"F_EXP\"].sum()\n",
    "print(\"Total micronegocios a nivel nacional:\", int(Total))"
   ]
  },
  {
   "cell_type": "code",
   "execution_count": 14,
   "id": "29d1b64f",
   "metadata": {},
   "outputs": [
    {
     "data": {
      "text/plain": [
       "Index(['DIRECTORIO', 'SECUENCIA_P', 'SECUENCIA_ENCUESTA', 'COD_DEPTO', 'AREA',\n",
       "       'CLASE_TE', 'P35', 'P241', 'MES_REF', 'P3031', 'P3032_1', 'P3032_2',\n",
       "       'P3032_3', 'P3033', 'P3034', 'P3035', 'P3000', 'GRUPOS4', 'GRUPOS12',\n",
       "       'F_EXP'],\n",
       "      dtype='object')"
      ]
     },
     "execution_count": 14,
     "metadata": {},
     "output_type": "execute_result"
    }
   ],
   "source": [
    "emicron.columns"
   ]
  },
  {
   "cell_type": "code",
   "execution_count": 16,
   "id": "5f04b92b",
   "metadata": {},
   "outputs": [
    {
     "name": "stdout",
     "output_type": "stream",
     "text": [
      "Total micronegocios en el quindio con propietarios hombres entre 18-30: 1929\n"
     ]
    }
   ],
   "source": [
    "#Filtramos\n",
    "Micronegocios_QH = emicron[(emicron[\"COD_DEPTO\"] == 63) & (emicron[\"P35\"] == 1) & (emicron[\"P241\"].between(18,30)  )]\n",
    "#Total de micronegocios en el quindio con propietarios hombres entre 18-30\n",
    "Total_QH = Micronegocios_QH[\"F_EXP\"].sum()\n",
    "print(\"Total micronegocios en el quindio con propietarios hombres entre 18-30:\", int(Total_QH))"
   ]
  },
  {
   "cell_type": "code",
   "execution_count": 19,
   "id": "bab3dab0",
   "metadata": {},
   "outputs": [
    {
     "name": "stdout",
     "output_type": "stream",
     "text": [
      "Total micronegocios de la industria manufacturear en el departamento de risaralda cuyas propietarias son mujeres entre los 20 y los 30 años: 471\n"
     ]
    }
   ],
   "source": [
    "#2. cuantos micronegocios de la industria manufacturear existen en el departamento de risaralda cuyas propietarias son mujeres entre los 20 y los 30 años?\n",
    "Micro_Manu_RSM = emicron[(emicron[\"COD_DEPTO\"] == 66) & (emicron[\"P35\"] == 2 ) & (emicron[\"P241\"].between(20,30)) & (emicron[\"GRUPOS4\"] == 2    )]\n",
    "Total_Manu_RSM = Micro_Manu_RSM[\"F_EXP\"].sum()\n",
    "print(\"Total micronegocios de la industria manufacturear en el departamento de risaralda cuyas propietarias son mujeres entre los 20 y los 30 años:\", int(Total_Manu_RSM))"
   ]
  },
  {
   "cell_type": "code",
   "execution_count": null,
   "id": "06b45630",
   "metadata": {},
   "outputs": [
    {
     "name": "stdout",
     "output_type": "stream",
     "text": [
      "Total micronegocios del sector comercio en manizales, cuyas propietarias son mujeres mayores de 40 años: 2636\n"
     ]
    }
   ],
   "source": [
    "#3. Entre las ciudades de manizales, pereira y armenia, cual tiene el mas micronegocios del sector comercio, cuyas propietarias son mujeres mayores a 40 años?\n",
    "#3.1 Manizales\n",
    "Micronegocios_Comercio_Manizales = emicron[(emicron[\"AREA\"] == 17) & (emicron[\"P35\"] == 2) & (emicron[\"P241\"] > 40) & (emicron[\"GRUPOS4\"] == 3)]\n",
    "Total_Comercio_Manizales = Micronegocios_Comercio_Manizales[\"F_EXP\"].sum()\n",
    "print(\"Total micronegocios del sector comercio en manizales, cuyas propietarias son mujeres mayores de 40 años:\", int(Total_Comercio_Manizales))"
   ]
  },
  {
   "cell_type": "code",
   "execution_count": 22,
   "id": "9a59bc75",
   "metadata": {},
   "outputs": [
    {
     "name": "stdout",
     "output_type": "stream",
     "text": [
      "Total micronegocios del sector comercio en pereira, cuyas propietarias son mujeres mayores de 40 años: 3827\n"
     ]
    }
   ],
   "source": [
    "#3.2 Pereira\n",
    "Micronegocios_Comercio_Pereira = emicron[(emicron[\"AREA\"] == 66) & (emicron[\"P35\"] == 2) & (emicron[\"P241\"] > 40) & (emicron[\"GRUPOS4\"] == 3)]\n",
    "Total_Comercio_Pereira = Micronegocios_Comercio_Pereira[\"F_EXP\"].sum()\n",
    "print(\"Total micronegocios del sector comercio en pereira, cuyas propietarias son mujeres mayores de 40 años:\", int(Total_Comercio_Pereira))"
   ]
  },
  {
   "cell_type": "code",
   "execution_count": 23,
   "id": "3a06271b",
   "metadata": {},
   "outputs": [
    {
     "name": "stdout",
     "output_type": "stream",
     "text": [
      "Total micronegocios del sector comercio en armenia, cuyas propietarias son mujeres mayores de 40 años: 2557\n"
     ]
    }
   ],
   "source": [
    "#3.3 Armenia\n",
    "Micronegocios_Comercio_Armenia = emicron[(emicron[\"AREA\"] == 63) & (emicron[\"P35\"] == 2) & (emicron[\"P241\"] > 40) & (emicron[\"GRUPOS4\"] == 3)]\n",
    "Total_Comercio_Armenia = Micronegocios_Comercio_Armenia[\"F_EXP\"].sum()\n",
    "print(\"Total micronegocios del sector comercio en armenia, cuyas propietarias son mujeres mayores de 40 años:\", int(Total_Comercio_Armenia))"
   ]
  },
  {
   "cell_type": "code",
   "execution_count": null,
   "id": "4e14eb25",
   "metadata": {},
   "outputs": [],
   "source": [
    "#Se encontro que entre las 3 ciudades principales en el eje cafetero, la ciudad  de pereira tiene una mayor cantidad de micronegocios, la ciudad de armenia a pesar de ser la mas pequeña de las 3, tiene una cantidad significativa con la ciudad de manizales a nivel de micronegocios."
   ]
  },
  {
   "cell_type": "code",
   "execution_count": 27,
   "id": "9357f183",
   "metadata": {},
   "outputs": [
    {
     "name": "stdout",
     "output_type": "stream",
     "text": [
      "El total de micronegocios en armenia sin nombre comercial y con propietarios masculinos son: 11603\n"
     ]
    }
   ],
   "source": [
    "#4. En la ciudad de armenia, cuantos micronegocios hay cuyos propietarios son hombres que no tienen nombre comercial?\n",
    "Micronegocios_Hombres_Arm = emicron[(emicron[\"AREA\"] == 63) & (emicron[\"P35\"] == 1) & (emicron[\"P3035\"] == 2 )]\n",
    "Total_Hombres_Arm = Micronegocios_Hombres_Arm[\"F_EXP\"].sum()\n",
    "print(\"El total de micronegocios en armenia sin nombre comercial y con propietarios masculinos son:\", int(Total_Hombres_Arm))"
   ]
  },
  {
   "cell_type": "code",
   "execution_count": null,
   "id": "b162b2c9",
   "metadata": {},
   "outputs": [],
   "source": []
  }
 ],
 "metadata": {
  "kernelspec": {
   "display_name": "Python 3",
   "language": "python",
   "name": "python3"
  },
  "language_info": {
   "codemirror_mode": {
    "name": "ipython",
    "version": 3
   },
   "file_extension": ".py",
   "mimetype": "text/x-python",
   "name": "python",
   "nbconvert_exporter": "python",
   "pygments_lexer": "ipython3",
   "version": "3.12.1"
  }
 },
 "nbformat": 4,
 "nbformat_minor": 5
}
